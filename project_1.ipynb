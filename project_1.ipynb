{
 "cells": [
  {
   "cell_type": "code",
   "execution_count": 1,
   "id": "c1e4b572",
   "metadata": {
    "slideshow": {
     "slide_type": "slide"
    }
   },
   "outputs": [],
   "source": [
    "#SHADRACK NAMBA\n",
    "\n",
    "#PROPOSAL REQUEST FOR PROJECT ONE\n",
    "\n",
    "#Brief summary of My interests and intent\n",
    "\n",
    "#according to investopedia,the term unicorn refers to a privately held startup company with a value of over $1 billion.\n",
    "\n",
    "#It is commonly used in the venture capital industry. \n",
    "\n",
    "#Unicorns are very rare and require innovation. Because of their sheer size, \n",
    "\n",
    "#unicorn investors tend to be private investors or venture capitalists, which means they are out of the reach of retail\n",
    "\n",
    "#investors. Although it isn't necessary, many unicorns work their way to going public.\n",
    " \n",
    "# My project is to uncover formation patterns,locations and distributions accross the world in unicorn industries.\n",
    "\n",
    "#I will examine relationships between industry type and location,the number of USA unicorns and their \n",
    "\n",
    "#distribution by cities,based on unicorn valutions. \n",
    "\n",
    "#and number of unicorn in a location,i will calculate the city or region's valuations and establish trends\n",
    "\n",
    "#in the unicorn industry and many related questions, as the my datamay permit .\n"
   ]
  },
  {
   "cell_type": "markdown",
   "id": "79b4d25c",
   "metadata": {
    "slideshow": {
     "slide_type": "slide"
    }
   },
   "source": [
    "# Data Preparation"
   ]
  },
  {
   "cell_type": "code",
   "execution_count": 2,
   "id": "46c9d7ba",
   "metadata": {
    "slideshow": {
     "slide_type": "slide"
    }
   },
   "outputs": [],
   "source": [
    "import pandas as pd\n",
    "import numpy as np\n",
    "import seaborn as sns\n",
    "import matplotlib.pyplot as plt"
   ]
  },
  {
   "cell_type": "code",
   "execution_count": 3,
   "id": "5e8a60e8",
   "metadata": {
    "slideshow": {
     "slide_type": "slide"
    }
   },
   "outputs": [],
   "source": [
    "start_ups = pd.read_csv('unicorn.csv')"
   ]
  },
  {
   "cell_type": "code",
   "execution_count": 4,
   "id": "3ff5ffc3",
   "metadata": {
    "slideshow": {
     "slide_type": "slide"
    }
   },
   "outputs": [
    {
     "data": {
      "text/html": [
       "<div>\n",
       "<style scoped>\n",
       "    .dataframe tbody tr th:only-of-type {\n",
       "        vertical-align: middle;\n",
       "    }\n",
       "\n",
       "    .dataframe tbody tr th {\n",
       "        vertical-align: top;\n",
       "    }\n",
       "\n",
       "    .dataframe thead th {\n",
       "        text-align: right;\n",
       "    }\n",
       "</style>\n",
       "<table border=\"1\" class=\"dataframe\">\n",
       "  <thead>\n",
       "    <tr style=\"text-align: right;\">\n",
       "      <th></th>\n",
       "      <th>Company</th>\n",
       "      <th>Valuation</th>\n",
       "      <th>Date</th>\n",
       "      <th>Country</th>\n",
       "      <th>City</th>\n",
       "      <th>Industry</th>\n",
       "      <th>Investors</th>\n",
       "      <th>year</th>\n",
       "      <th>month</th>\n",
       "      <th>day</th>\n",
       "    </tr>\n",
       "  </thead>\n",
       "  <tbody>\n",
       "    <tr>\n",
       "      <th>0</th>\n",
       "      <td>Bytedance</td>\n",
       "      <td>140.0</td>\n",
       "      <td>4/7/2017</td>\n",
       "      <td>China</td>\n",
       "      <td>Beijing</td>\n",
       "      <td>Artificial intelligence</td>\n",
       "      <td>0      Sequoia Capital China, SIG Asia Investm...</td>\n",
       "      <td>2017</td>\n",
       "      <td>7</td>\n",
       "      <td>4</td>\n",
       "    </tr>\n",
       "    <tr>\n",
       "      <th>1</th>\n",
       "      <td>SpaceX</td>\n",
       "      <td>100.3</td>\n",
       "      <td>12/1/2012</td>\n",
       "      <td>United States</td>\n",
       "      <td>Hawthorne</td>\n",
       "      <td>Other</td>\n",
       "      <td>0      Sequoia Capital China, SIG Asia Investm...</td>\n",
       "      <td>2012</td>\n",
       "      <td>1</td>\n",
       "      <td>12</td>\n",
       "    </tr>\n",
       "    <tr>\n",
       "      <th>2</th>\n",
       "      <td>Stripe</td>\n",
       "      <td>95.0</td>\n",
       "      <td>1/23/2014</td>\n",
       "      <td>United States</td>\n",
       "      <td>San Francisco</td>\n",
       "      <td>Fintech</td>\n",
       "      <td>0      Sequoia Capital China, SIG Asia Investm...</td>\n",
       "      <td>2014</td>\n",
       "      <td>23</td>\n",
       "      <td>1</td>\n",
       "    </tr>\n",
       "    <tr>\n",
       "      <th>3</th>\n",
       "      <td>Klarna</td>\n",
       "      <td>45.6</td>\n",
       "      <td>12/12/2011</td>\n",
       "      <td>Sweden</td>\n",
       "      <td>Stockholm</td>\n",
       "      <td>Fintech</td>\n",
       "      <td>0      Sequoia Capital China, SIG Asia Investm...</td>\n",
       "      <td>2011</td>\n",
       "      <td>12</td>\n",
       "      <td>12</td>\n",
       "    </tr>\n",
       "    <tr>\n",
       "      <th>4</th>\n",
       "      <td>Canva</td>\n",
       "      <td>40.0</td>\n",
       "      <td>1/8/2018</td>\n",
       "      <td>Australia</td>\n",
       "      <td>Surry Hills</td>\n",
       "      <td>Internet software &amp; services</td>\n",
       "      <td>0      Sequoia Capital China, SIG Asia Investm...</td>\n",
       "      <td>2018</td>\n",
       "      <td>8</td>\n",
       "      <td>1</td>\n",
       "    </tr>\n",
       "  </tbody>\n",
       "</table>\n",
       "</div>"
      ],
      "text/plain": [
       "     Company  Valuation        Date        Country           City  \\\n",
       "0  Bytedance      140.0    4/7/2017          China        Beijing   \n",
       "1     SpaceX      100.3   12/1/2012  United States      Hawthorne   \n",
       "2     Stripe       95.0   1/23/2014  United States  San Francisco   \n",
       "3     Klarna       45.6  12/12/2011         Sweden      Stockholm   \n",
       "4      Canva       40.0    1/8/2018      Australia    Surry Hills   \n",
       "\n",
       "                       Industry  \\\n",
       "0       Artificial intelligence   \n",
       "1                         Other   \n",
       "2                       Fintech   \n",
       "3                       Fintech   \n",
       "4  Internet software & services   \n",
       "\n",
       "                                           Investors  year  month  day  \n",
       "0  0      Sequoia Capital China, SIG Asia Investm...  2017      7    4  \n",
       "1  0      Sequoia Capital China, SIG Asia Investm...  2012      1   12  \n",
       "2  0      Sequoia Capital China, SIG Asia Investm...  2014     23    1  \n",
       "3  0      Sequoia Capital China, SIG Asia Investm...  2011     12   12  \n",
       "4  0      Sequoia Capital China, SIG Asia Investm...  2018      8    1  "
      ]
     },
     "execution_count": 4,
     "metadata": {},
     "output_type": "execute_result"
    }
   ],
   "source": [
    "start_ups.head()"
   ]
  },
  {
   "cell_type": "code",
   "execution_count": 5,
   "id": "b6f14642",
   "metadata": {
    "slideshow": {
     "slide_type": "slide"
    }
   },
   "outputs": [
    {
     "data": {
      "text/plain": [
       "Index(['Company', 'Valuation', 'Date', 'Country', 'City', 'Industry',\n",
       "       'Investors', 'year', 'month', 'day'],\n",
       "      dtype='object')"
      ]
     },
     "execution_count": 5,
     "metadata": {},
     "output_type": "execute_result"
    }
   ],
   "source": [
    "start_ups.columns"
   ]
  },
  {
   "cell_type": "code",
   "execution_count": 6,
   "id": "ddd16cad",
   "metadata": {
    "slideshow": {
     "slide_type": "slide"
    }
   },
   "outputs": [
    {
     "name": "stdout",
     "output_type": "stream",
     "text": [
      "<class 'pandas.core.frame.DataFrame'>\n",
      "RangeIndex: 936 entries, 0 to 935\n",
      "Data columns (total 10 columns):\n",
      " #   Column     Non-Null Count  Dtype  \n",
      "---  ------     --------------  -----  \n",
      " 0   Company    936 non-null    object \n",
      " 1   Valuation  936 non-null    float64\n",
      " 2   Date       936 non-null    object \n",
      " 3   Country    936 non-null    object \n",
      " 4   City       921 non-null    object \n",
      " 5   Industry   936 non-null    object \n",
      " 6   Investors  936 non-null    object \n",
      " 7   year       936 non-null    int64  \n",
      " 8   month      936 non-null    int64  \n",
      " 9   day        936 non-null    int64  \n",
      "dtypes: float64(1), int64(3), object(6)\n",
      "memory usage: 73.2+ KB\n"
     ]
    }
   ],
   "source": [
    "start_ups.info()"
   ]
  },
  {
   "cell_type": "markdown",
   "id": "b6fe1146",
   "metadata": {
    "slideshow": {
     "slide_type": "slide"
    }
   },
   "source": [
    "# Data Inspecting and Cleaning"
   ]
  },
  {
   "cell_type": "code",
   "execution_count": 7,
   "id": "1295d548",
   "metadata": {
    "slideshow": {
     "slide_type": "slide"
    }
   },
   "outputs": [
    {
     "data": {
      "text/plain": [
       "Company       0\n",
       "Valuation     0\n",
       "Date          0\n",
       "Country       0\n",
       "City         15\n",
       "Industry      0\n",
       "Investors     0\n",
       "year          0\n",
       "month         0\n",
       "day           0\n",
       "dtype: int64"
      ]
     },
     "execution_count": 7,
     "metadata": {},
     "output_type": "execute_result"
    }
   ],
   "source": [
    "start_ups.isnull().sum()"
   ]
  },
  {
   "cell_type": "code",
   "execution_count": 8,
   "id": "2e6f7507",
   "metadata": {
    "slideshow": {
     "slide_type": "slide"
    }
   },
   "outputs": [
    {
     "data": {
      "text/plain": [
       "0"
      ]
     },
     "execution_count": 8,
     "metadata": {},
     "output_type": "execute_result"
    }
   ],
   "source": [
    "start_ups.duplicated().sum()"
   ]
  },
  {
   "cell_type": "code",
   "execution_count": 9,
   "id": "e7bca278",
   "metadata": {
    "slideshow": {
     "slide_type": "slide"
    }
   },
   "outputs": [
    {
     "data": {
      "text/plain": [
       "Company      0\n",
       "Valuation    0\n",
       "Date         0\n",
       "Country      0\n",
       "City         0\n",
       "Industry     0\n",
       "Investors    0\n",
       "year         0\n",
       "month        0\n",
       "day          0\n",
       "dtype: int64"
      ]
     },
     "execution_count": 9,
     "metadata": {},
     "output_type": "execute_result"
    }
   ],
   "source": [
    "start_ups.dropna(inplace=True)\n",
    "start_ups.isnull().sum()"
   ]
  },
  {
   "cell_type": "code",
   "execution_count": 10,
   "id": "fce07995",
   "metadata": {
    "slideshow": {
     "slide_type": "slide"
    }
   },
   "outputs": [
    {
     "data": {
      "text/plain": [
       "(921, 10)"
      ]
     },
     "execution_count": 10,
     "metadata": {},
     "output_type": "execute_result"
    }
   ],
   "source": [
    "start_ups.shape"
   ]
  },
  {
   "cell_type": "markdown",
   "id": "e5e391a9",
   "metadata": {
    "slideshow": {
     "slide_type": "slide"
    }
   },
   "source": [
    "# Exploratory Data Analysis"
   ]
  },
  {
   "cell_type": "code",
   "execution_count": 11,
   "id": "bc48fb0c",
   "metadata": {
    "slideshow": {
     "slide_type": "slide"
    }
   },
   "outputs": [
    {
     "data": {
      "text/html": [
       "<div>\n",
       "<style scoped>\n",
       "    .dataframe tbody tr th:only-of-type {\n",
       "        vertical-align: middle;\n",
       "    }\n",
       "\n",
       "    .dataframe tbody tr th {\n",
       "        vertical-align: top;\n",
       "    }\n",
       "\n",
       "    .dataframe thead th {\n",
       "        text-align: right;\n",
       "    }\n",
       "</style>\n",
       "<table border=\"1\" class=\"dataframe\">\n",
       "  <thead>\n",
       "    <tr style=\"text-align: right;\">\n",
       "      <th></th>\n",
       "      <th>Valuation</th>\n",
       "      <th>year</th>\n",
       "      <th>month</th>\n",
       "      <th>day</th>\n",
       "    </tr>\n",
       "  </thead>\n",
       "  <tbody>\n",
       "    <tr>\n",
       "      <th>count</th>\n",
       "      <td>921.000000</td>\n",
       "      <td>921.000000</td>\n",
       "      <td>921.000000</td>\n",
       "      <td>921.000000</td>\n",
       "    </tr>\n",
       "    <tr>\n",
       "      <th>mean</th>\n",
       "      <td>3.287904</td>\n",
       "      <td>2019.527687</td>\n",
       "      <td>15.704669</td>\n",
       "      <td>6.735071</td>\n",
       "    </tr>\n",
       "    <tr>\n",
       "      <th>std</th>\n",
       "      <td>7.495255</td>\n",
       "      <td>2.027942</td>\n",
       "      <td>8.646290</td>\n",
       "      <td>3.264659</td>\n",
       "    </tr>\n",
       "    <tr>\n",
       "      <th>min</th>\n",
       "      <td>1.000000</td>\n",
       "      <td>2007.000000</td>\n",
       "      <td>1.000000</td>\n",
       "      <td>1.000000</td>\n",
       "    </tr>\n",
       "    <tr>\n",
       "      <th>25%</th>\n",
       "      <td>1.080000</td>\n",
       "      <td>2018.000000</td>\n",
       "      <td>8.000000</td>\n",
       "      <td>4.000000</td>\n",
       "    </tr>\n",
       "    <tr>\n",
       "      <th>50%</th>\n",
       "      <td>1.600000</td>\n",
       "      <td>2021.000000</td>\n",
       "      <td>16.000000</td>\n",
       "      <td>7.000000</td>\n",
       "    </tr>\n",
       "    <tr>\n",
       "      <th>75%</th>\n",
       "      <td>3.000000</td>\n",
       "      <td>2021.000000</td>\n",
       "      <td>23.000000</td>\n",
       "      <td>10.000000</td>\n",
       "    </tr>\n",
       "    <tr>\n",
       "      <th>max</th>\n",
       "      <td>140.000000</td>\n",
       "      <td>2021.000000</td>\n",
       "      <td>31.000000</td>\n",
       "      <td>12.000000</td>\n",
       "    </tr>\n",
       "  </tbody>\n",
       "</table>\n",
       "</div>"
      ],
      "text/plain": [
       "        Valuation         year       month         day\n",
       "count  921.000000   921.000000  921.000000  921.000000\n",
       "mean     3.287904  2019.527687   15.704669    6.735071\n",
       "std      7.495255     2.027942    8.646290    3.264659\n",
       "min      1.000000  2007.000000    1.000000    1.000000\n",
       "25%      1.080000  2018.000000    8.000000    4.000000\n",
       "50%      1.600000  2021.000000   16.000000    7.000000\n",
       "75%      3.000000  2021.000000   23.000000   10.000000\n",
       "max    140.000000  2021.000000   31.000000   12.000000"
      ]
     },
     "execution_count": 11,
     "metadata": {},
     "output_type": "execute_result"
    }
   ],
   "source": [
    "start_ups.describe()"
   ]
  },
  {
   "cell_type": "code",
   "execution_count": 12,
   "id": "fda2fcfa",
   "metadata": {
    "slideshow": {
     "slide_type": "slide"
    }
   },
   "outputs": [
    {
     "data": {
      "text/html": [
       "<div>\n",
       "<style scoped>\n",
       "    .dataframe tbody tr th:only-of-type {\n",
       "        vertical-align: middle;\n",
       "    }\n",
       "\n",
       "    .dataframe tbody tr th {\n",
       "        vertical-align: top;\n",
       "    }\n",
       "\n",
       "    .dataframe thead th {\n",
       "        text-align: right;\n",
       "    }\n",
       "</style>\n",
       "<table border=\"1\" class=\"dataframe\">\n",
       "  <thead>\n",
       "    <tr style=\"text-align: right;\">\n",
       "      <th></th>\n",
       "      <th>count</th>\n",
       "      <th>mean</th>\n",
       "      <th>std</th>\n",
       "      <th>min</th>\n",
       "      <th>25%</th>\n",
       "      <th>50%</th>\n",
       "      <th>75%</th>\n",
       "      <th>max</th>\n",
       "    </tr>\n",
       "  </thead>\n",
       "  <tbody>\n",
       "    <tr>\n",
       "      <th>Valuation</th>\n",
       "      <td>921.0</td>\n",
       "      <td>3.287904</td>\n",
       "      <td>7.495255</td>\n",
       "      <td>1.0</td>\n",
       "      <td>1.08</td>\n",
       "      <td>1.6</td>\n",
       "      <td>3.0</td>\n",
       "      <td>140.0</td>\n",
       "    </tr>\n",
       "    <tr>\n",
       "      <th>year</th>\n",
       "      <td>921.0</td>\n",
       "      <td>2019.527687</td>\n",
       "      <td>2.027942</td>\n",
       "      <td>2007.0</td>\n",
       "      <td>2018.00</td>\n",
       "      <td>2021.0</td>\n",
       "      <td>2021.0</td>\n",
       "      <td>2021.0</td>\n",
       "    </tr>\n",
       "    <tr>\n",
       "      <th>month</th>\n",
       "      <td>921.0</td>\n",
       "      <td>15.704669</td>\n",
       "      <td>8.646290</td>\n",
       "      <td>1.0</td>\n",
       "      <td>8.00</td>\n",
       "      <td>16.0</td>\n",
       "      <td>23.0</td>\n",
       "      <td>31.0</td>\n",
       "    </tr>\n",
       "    <tr>\n",
       "      <th>day</th>\n",
       "      <td>921.0</td>\n",
       "      <td>6.735071</td>\n",
       "      <td>3.264659</td>\n",
       "      <td>1.0</td>\n",
       "      <td>4.00</td>\n",
       "      <td>7.0</td>\n",
       "      <td>10.0</td>\n",
       "      <td>12.0</td>\n",
       "    </tr>\n",
       "  </tbody>\n",
       "</table>\n",
       "</div>"
      ],
      "text/plain": [
       "           count         mean       std     min      25%     50%     75%  \\\n",
       "Valuation  921.0     3.287904  7.495255     1.0     1.08     1.6     3.0   \n",
       "year       921.0  2019.527687  2.027942  2007.0  2018.00  2021.0  2021.0   \n",
       "month      921.0    15.704669  8.646290     1.0     8.00    16.0    23.0   \n",
       "day        921.0     6.735071  3.264659     1.0     4.00     7.0    10.0   \n",
       "\n",
       "              max  \n",
       "Valuation   140.0  \n",
       "year       2021.0  \n",
       "month        31.0  \n",
       "day          12.0  "
      ]
     },
     "execution_count": 12,
     "metadata": {},
     "output_type": "execute_result"
    }
   ],
   "source": [
    "start_ups.describe().T #Transposing"
   ]
  },
  {
   "cell_type": "code",
   "execution_count": 13,
   "id": "cc15e807",
   "metadata": {
    "slideshow": {
     "slide_type": "slide"
    }
   },
   "outputs": [
    {
     "data": {
      "text/plain": [
       "array(['Artificial intelligence', 'Other', 'Fintech',\n",
       "       'Internet software & services',\n",
       "       'Supply chain, logistics, & delivery',\n",
       "       'Data management & analytics', 'Edtech',\n",
       "       'E-commerce & direct-to-consumer', 'Hardware', 'Health',\n",
       "       'Consumer & retail', 'Auto & transportation', 'Finttech',\n",
       "       'Cybersecurity', 'Mobile & telecommunications', 'Travel',\n",
       "       'Artificial Intelligence'], dtype=object)"
      ]
     },
     "execution_count": 13,
     "metadata": {},
     "output_type": "execute_result"
    }
   ],
   "source": [
    "#to undesrtand the startup industries involved\n",
    "start_ups['Industry'].unique()"
   ]
  },
  {
   "cell_type": "code",
   "execution_count": 14,
   "id": "c3ff400b",
   "metadata": {
    "slideshow": {
     "slide_type": "slide"
    }
   },
   "outputs": [],
   "source": [
    "#to correct the spelling in the finttech and artificial intelligence industries\n",
    "\n",
    "start_ups.Industry.replace('Finttech', 'Fintech', inplace=True)\n",
    "\n",
    "start_ups.Industry.replace('Artificial intelligence', 'Artificial Intelligence', inplace=True)"
   ]
  },
  {
   "cell_type": "code",
   "execution_count": 15,
   "id": "288af0be",
   "metadata": {
    "slideshow": {
     "slide_type": "slide"
    }
   },
   "outputs": [
    {
     "data": {
      "text/plain": [
       "array(['Artificial Intelligence', 'Other', 'Fintech',\n",
       "       'Internet software & services',\n",
       "       'Supply chain, logistics, & delivery',\n",
       "       'Data management & analytics', 'Edtech',\n",
       "       'E-commerce & direct-to-consumer', 'Hardware', 'Health',\n",
       "       'Consumer & retail', 'Auto & transportation', 'Cybersecurity',\n",
       "       'Mobile & telecommunications', 'Travel'], dtype=object)"
      ]
     },
     "execution_count": 15,
     "metadata": {},
     "output_type": "execute_result"
    }
   ],
   "source": [
    "#to confirm corrections\n",
    "start_ups['Industry'].unique()"
   ]
  },
  {
   "cell_type": "markdown",
   "id": "914ef7c5",
   "metadata": {
    "slideshow": {
     "slide_type": "slide"
    }
   },
   "source": [
    "# finding startups formation on year."
   ]
  },
  {
   "cell_type": "code",
   "execution_count": 16,
   "id": "5c7fd7d7",
   "metadata": {
    "slideshow": {
     "slide_type": "slide"
    }
   },
   "outputs": [
    {
     "data": {
      "text/html": [
       "<div>\n",
       "<style scoped>\n",
       "    .dataframe tbody tr th:only-of-type {\n",
       "        vertical-align: middle;\n",
       "    }\n",
       "\n",
       "    .dataframe tbody tr th {\n",
       "        vertical-align: top;\n",
       "    }\n",
       "\n",
       "    .dataframe thead th {\n",
       "        text-align: right;\n",
       "    }\n",
       "</style>\n",
       "<table border=\"1\" class=\"dataframe\">\n",
       "  <thead>\n",
       "    <tr style=\"text-align: right;\">\n",
       "      <th></th>\n",
       "      <th>Company</th>\n",
       "      <th>Valuation</th>\n",
       "      <th>Date</th>\n",
       "      <th>Country</th>\n",
       "      <th>City</th>\n",
       "      <th>Industry</th>\n",
       "      <th>Investors</th>\n",
       "      <th>year</th>\n",
       "      <th>month</th>\n",
       "      <th>day</th>\n",
       "    </tr>\n",
       "  </thead>\n",
       "  <tbody>\n",
       "    <tr>\n",
       "      <th>0</th>\n",
       "      <td>Bytedance</td>\n",
       "      <td>140.0</td>\n",
       "      <td>4/7/2017</td>\n",
       "      <td>China</td>\n",
       "      <td>Beijing</td>\n",
       "      <td>Artificial Intelligence</td>\n",
       "      <td>0      Sequoia Capital China, SIG Asia Investm...</td>\n",
       "      <td>2017</td>\n",
       "      <td>7</td>\n",
       "      <td>4</td>\n",
       "    </tr>\n",
       "    <tr>\n",
       "      <th>1</th>\n",
       "      <td>SpaceX</td>\n",
       "      <td>100.3</td>\n",
       "      <td>12/1/2012</td>\n",
       "      <td>United States</td>\n",
       "      <td>Hawthorne</td>\n",
       "      <td>Other</td>\n",
       "      <td>0      Sequoia Capital China, SIG Asia Investm...</td>\n",
       "      <td>2012</td>\n",
       "      <td>1</td>\n",
       "      <td>12</td>\n",
       "    </tr>\n",
       "    <tr>\n",
       "      <th>2</th>\n",
       "      <td>Stripe</td>\n",
       "      <td>95.0</td>\n",
       "      <td>1/23/2014</td>\n",
       "      <td>United States</td>\n",
       "      <td>San Francisco</td>\n",
       "      <td>Fintech</td>\n",
       "      <td>0      Sequoia Capital China, SIG Asia Investm...</td>\n",
       "      <td>2014</td>\n",
       "      <td>23</td>\n",
       "      <td>1</td>\n",
       "    </tr>\n",
       "    <tr>\n",
       "      <th>3</th>\n",
       "      <td>Klarna</td>\n",
       "      <td>45.6</td>\n",
       "      <td>12/12/2011</td>\n",
       "      <td>Sweden</td>\n",
       "      <td>Stockholm</td>\n",
       "      <td>Fintech</td>\n",
       "      <td>0      Sequoia Capital China, SIG Asia Investm...</td>\n",
       "      <td>2011</td>\n",
       "      <td>12</td>\n",
       "      <td>12</td>\n",
       "    </tr>\n",
       "    <tr>\n",
       "      <th>4</th>\n",
       "      <td>Canva</td>\n",
       "      <td>40.0</td>\n",
       "      <td>1/8/2018</td>\n",
       "      <td>Australia</td>\n",
       "      <td>Surry Hills</td>\n",
       "      <td>Internet software &amp; services</td>\n",
       "      <td>0      Sequoia Capital China, SIG Asia Investm...</td>\n",
       "      <td>2018</td>\n",
       "      <td>8</td>\n",
       "      <td>1</td>\n",
       "    </tr>\n",
       "  </tbody>\n",
       "</table>\n",
       "</div>"
      ],
      "text/plain": [
       "     Company  Valuation        Date        Country           City  \\\n",
       "0  Bytedance      140.0    4/7/2017          China        Beijing   \n",
       "1     SpaceX      100.3   12/1/2012  United States      Hawthorne   \n",
       "2     Stripe       95.0   1/23/2014  United States  San Francisco   \n",
       "3     Klarna       45.6  12/12/2011         Sweden      Stockholm   \n",
       "4      Canva       40.0    1/8/2018      Australia    Surry Hills   \n",
       "\n",
       "                       Industry  \\\n",
       "0       Artificial Intelligence   \n",
       "1                         Other   \n",
       "2                       Fintech   \n",
       "3                       Fintech   \n",
       "4  Internet software & services   \n",
       "\n",
       "                                           Investors  year  month  day  \n",
       "0  0      Sequoia Capital China, SIG Asia Investm...  2017      7    4  \n",
       "1  0      Sequoia Capital China, SIG Asia Investm...  2012      1   12  \n",
       "2  0      Sequoia Capital China, SIG Asia Investm...  2014     23    1  \n",
       "3  0      Sequoia Capital China, SIG Asia Investm...  2011     12   12  \n",
       "4  0      Sequoia Capital China, SIG Asia Investm...  2018      8    1  "
      ]
     },
     "execution_count": 16,
     "metadata": {},
     "output_type": "execute_result"
    }
   ],
   "source": [
    "#Recalling the data\n",
    "\n",
    "start_ups.head()"
   ]
  },
  {
   "cell_type": "code",
   "execution_count": 17,
   "id": "59ca67de",
   "metadata": {
    "slideshow": {
     "slide_type": "slide"
    }
   },
   "outputs": [
    {
     "data": {
      "text/plain": [
       "Fintech                                185\n",
       "Internet software & services           166\n",
       "E-commerce & direct-to-consumer         98\n",
       "Artificial Intelligence                 71\n",
       "Health                                  63\n",
       "Other                                   51\n",
       "Supply chain, logistics, & delivery     50\n",
       "Cybersecurity                           41\n",
       "Data management & analytics             36\n",
       "Mobile & telecommunications             36\n",
       "Hardware                                32\n",
       "Auto & transportation                   29\n",
       "Edtech                                  27\n",
       "Consumer & retail                       23\n",
       "Travel                                  13\n",
       "Name: Industry, dtype: int64"
      ]
     },
     "execution_count": 17,
     "metadata": {},
     "output_type": "execute_result"
    }
   ],
   "source": [
    "#to establish industries involved\n",
    "start_ups['Industry'].value_counts()"
   ]
  },
  {
   "cell_type": "code",
   "execution_count": 18,
   "id": "51f759c7",
   "metadata": {
    "scrolled": true,
    "slideshow": {
     "slide_type": "slide"
    }
   },
   "outputs": [
    {
     "data": {
      "text/plain": [
       "Text(0.5, 1.0, 'startups distibution by Industry')"
      ]
     },
     "execution_count": 18,
     "metadata": {},
     "output_type": "execute_result"
    },
    {
     "data": {
      "image/png": "[encoded data removed]",
      "text/plain": [
       "<Figure size 2000x300 with 1 Axes>"
      ]
     },
     "metadata": {},
     "output_type": "display_data"
    }
   ],
   "source": [
    "#to visualise the industries involved\n",
    "start_ups['Industry'].value_counts().plot(kind=\"bar\",figsize=(20,3))\n",
    "plt.title(\"startups distibution by Industry\", fontdict={\"fontsize\":20})"
   ]
  },
  {
   "cell_type": "code",
   "execution_count": 21,
   "id": "15744469",
   "metadata": {
    "slideshow": {
     "slide_type": "slide"
    }
   },
   "outputs": [
    {
     "data": {
      "text/plain": [
       "2021    468\n",
       "2019    109\n",
       "2020    109\n",
       "2018    107\n",
       "2017     45\n",
       "2015     37\n",
       "2016     22\n",
       "2014     13\n",
       "2012      4\n",
       "2013      3\n",
       "2011      2\n",
       "2010      1\n",
       "2007      1\n",
       "Name: year, dtype: int64"
      ]
     },
     "execution_count": 21,
     "metadata": {},
     "output_type": "execute_result"
    }
   ],
   "source": [
    "#to find out how the unicorn numbers have been increasing\n",
    "\n",
    "start_ups['year'].value_counts()"
   ]
  },
  {
   "cell_type": "code",
   "execution_count": 39,
   "id": "d473320b",
   "metadata": {
    "slideshow": {
     "slide_type": "slide"
    }
   },
   "outputs": [
    {
     "data": {
      "text/plain": [
       "Text(0, 0.5, 'No pf startup')"
      ]
     },
     "execution_count": 39,
     "metadata": {},
     "output_type": "execute_result"
    },
    {
     "data": {
      "image/png": "[encoded data removed]",
      "text/plain": [
       "<Figure size 2000x300 with 1 Axes>"
      ]
     },
     "metadata": {},
     "output_type": "display_data"
    }
   ],
   "source": [
    "#plot the results\n",
    "\n",
    "start_ups['year'].value_counts().plot(kind=\"bar\",figsize=(20,3))\n",
    "plt.title(\"number of startups formation by year\", fontdict={\"fontsize\":20})\n",
    "plt.xlabel(\"year\",fontdict={\"fontsize\":12})\n",
    "plt.ylabel(\"No pf startup\",fontdict={\"fontsize\":12})"
   ]
  },
  {
   "cell_type": "code",
   "execution_count": 23,
   "id": "b7afa380",
   "metadata": {
    "slideshow": {
     "slide_type": "slide"
    }
   },
   "outputs": [
    {
     "data": {
      "text/plain": [
       "United States     477\n",
       "China             169\n",
       "India              51\n",
       "United Kingdom     37\n",
       "Germany            23\n",
       "Israel             21\n",
       "France             19\n",
       "Canada             15\n",
       "Brazil             15\n",
       "South Korea        11\n",
       "Australia           6\n",
       "Japan               6\n",
       "Mexico              5\n",
       "Netherlands         5\n",
       "Spain               4\n",
       "Name: Country, dtype: int64"
      ]
     },
     "execution_count": 23,
     "metadata": {},
     "output_type": "execute_result"
    }
   ],
   "source": [
    "#establisg startups by countries \n",
    "\n",
    "start_ups.Country.value_counts().head(15)"
   ]
  },
  {
   "cell_type": "code",
   "execution_count": 40,
   "id": "f6fb305a",
   "metadata": {
    "slideshow": {
     "slide_type": "slide"
    }
   },
   "outputs": [
    {
     "data": {
      "text/plain": [
       "Text(0, 0.5, 'No pf startup')"
      ]
     },
     "execution_count": 40,
     "metadata": {},
     "output_type": "execute_result"
    },
    {
     "data": {
      "image/png": "[encoded data removed]",
      "text/plain": [
       "<Figure size 2000x400 with 1 Axes>"
      ]
     },
     "metadata": {},
     "output_type": "display_data"
    }
   ],
   "source": [
    "#ploting the results\n",
    "start_ups.Country.value_counts().head(15).plot(kind=\"bar\",figsize=(20,4))\n",
    "plt.title(\"Country and there number of startups\",fontdict={\"fontsize\":15})\n",
    "plt.xlabel(\"Name of country\",fontdict={\"fontsize\":12})\n",
    "plt.ylabel(\"No pf startup\",fontdict={\"fontsize\":12})"
   ]
  },
  {
   "cell_type": "code",
   "execution_count": 44,
   "id": "882e0177",
   "metadata": {
    "slideshow": {
     "slide_type": "slide"
    }
   },
   "outputs": [
    {
     "data": {
      "text/plain": [
       "United States    477\n",
       "China            169\n",
       "Name: Country, dtype: int64"
      ]
     },
     "execution_count": 44,
     "metadata": {},
     "output_type": "execute_result"
    }
   ],
   "source": [
    "#taking the top two\n",
    "\n",
    "start_ups.Country.value_counts().head(2)"
   ]
  },
  {
   "cell_type": "code",
   "execution_count": 45,
   "id": "d8c4284b",
   "metadata": {
    "slideshow": {
     "slide_type": "slide"
    }
   },
   "outputs": [],
   "source": [
    "#to find out the number of startups per year.\n",
    "\n",
    "incept_year = start_ups.groupby('year')['Company'].count().reset_index()\n"
   ]
  },
  {
   "cell_type": "code",
   "execution_count": 29,
   "id": "d18e4b36",
   "metadata": {
    "slideshow": {
     "slide_type": "slide"
    }
   },
   "outputs": [
    {
     "data": {
      "text/html": [
       "<div>\n",
       "<style scoped>\n",
       "    .dataframe tbody tr th:only-of-type {\n",
       "        vertical-align: middle;\n",
       "    }\n",
       "\n",
       "    .dataframe tbody tr th {\n",
       "        vertical-align: top;\n",
       "    }\n",
       "\n",
       "    .dataframe thead th {\n",
       "        text-align: right;\n",
       "    }\n",
       "</style>\n",
       "<table border=\"1\" class=\"dataframe\">\n",
       "  <thead>\n",
       "    <tr style=\"text-align: right;\">\n",
       "      <th></th>\n",
       "      <th>year</th>\n",
       "      <th>Company</th>\n",
       "    </tr>\n",
       "  </thead>\n",
       "  <tbody>\n",
       "    <tr>\n",
       "      <th>0</th>\n",
       "      <td>2007</td>\n",
       "      <td>1</td>\n",
       "    </tr>\n",
       "    <tr>\n",
       "      <th>1</th>\n",
       "      <td>2010</td>\n",
       "      <td>1</td>\n",
       "    </tr>\n",
       "    <tr>\n",
       "      <th>2</th>\n",
       "      <td>2011</td>\n",
       "      <td>2</td>\n",
       "    </tr>\n",
       "    <tr>\n",
       "      <th>3</th>\n",
       "      <td>2012</td>\n",
       "      <td>4</td>\n",
       "    </tr>\n",
       "    <tr>\n",
       "      <th>4</th>\n",
       "      <td>2013</td>\n",
       "      <td>3</td>\n",
       "    </tr>\n",
       "    <tr>\n",
       "      <th>5</th>\n",
       "      <td>2014</td>\n",
       "      <td>13</td>\n",
       "    </tr>\n",
       "    <tr>\n",
       "      <th>6</th>\n",
       "      <td>2015</td>\n",
       "      <td>37</td>\n",
       "    </tr>\n",
       "    <tr>\n",
       "      <th>7</th>\n",
       "      <td>2016</td>\n",
       "      <td>22</td>\n",
       "    </tr>\n",
       "    <tr>\n",
       "      <th>8</th>\n",
       "      <td>2017</td>\n",
       "      <td>45</td>\n",
       "    </tr>\n",
       "    <tr>\n",
       "      <th>9</th>\n",
       "      <td>2018</td>\n",
       "      <td>107</td>\n",
       "    </tr>\n",
       "    <tr>\n",
       "      <th>10</th>\n",
       "      <td>2019</td>\n",
       "      <td>109</td>\n",
       "    </tr>\n",
       "    <tr>\n",
       "      <th>11</th>\n",
       "      <td>2020</td>\n",
       "      <td>109</td>\n",
       "    </tr>\n",
       "    <tr>\n",
       "      <th>12</th>\n",
       "      <td>2021</td>\n",
       "      <td>468</td>\n",
       "    </tr>\n",
       "  </tbody>\n",
       "</table>\n",
       "</div>"
      ],
      "text/plain": [
       "    year  Company\n",
       "0   2007        1\n",
       "1   2010        1\n",
       "2   2011        2\n",
       "3   2012        4\n",
       "4   2013        3\n",
       "5   2014       13\n",
       "6   2015       37\n",
       "7   2016       22\n",
       "8   2017       45\n",
       "9   2018      107\n",
       "10  2019      109\n",
       "11  2020      109\n",
       "12  2021      468"
      ]
     },
     "execution_count": 29,
     "metadata": {},
     "output_type": "execute_result"
    }
   ],
   "source": [
    "incept_year.head(20)"
   ]
  },
  {
   "cell_type": "code",
   "execution_count": 47,
   "id": "6cb116a1",
   "metadata": {
    "slideshow": {
     "slide_type": "slide"
    }
   },
   "outputs": [
    {
     "data": {
      "image/png": "[encoded data removed]",
      "text/plain": [
       "<Figure size 1200x600 with 1 Axes>"
      ]
     },
     "metadata": {},
     "output_type": "display_data"
    }
   ],
   "source": [
    "plt.figure(figsize=(12,6))\n",
    "sns.barplot(data=incept_year, x='year', y='Company', palette='inferno')\n",
    "plt.show()\n",
    "\n",
    "#There's an explosion in the number of new unicorns start-up in the recent year.\n",
    "#Out of the 936 unicorns in the dataset, 480 entered the list last year."
   ]
  },
  {
   "cell_type": "code",
   "execution_count": 50,
   "id": "3d53f995",
   "metadata": {
    "slideshow": {
     "slide_type": "slide"
    }
   },
   "outputs": [
    {
     "name": "stdout",
     "output_type": "stream",
     "text": [
      "<bound method NDFrame.head of 0       1\n",
      "1       2\n",
      "2       4\n",
      "3       8\n",
      "4      11\n",
      "5      24\n",
      "6      61\n",
      "7      83\n",
      "8     128\n",
      "9     235\n",
      "10    344\n",
      "11    453\n",
      "12    921\n",
      "Name: Company, dtype: int64>\n"
     ]
    }
   ],
   "source": [
    "#to culumlate the numbers in progression\n",
    "\n",
    "incept_year_total = incept_year['Company'].cumsum()\n",
    "\n",
    "print(incept_year_total.head)"
   ]
  },
  {
   "cell_type": "code",
   "execution_count": 64,
   "id": "db41b84d",
   "metadata": {
    "slideshow": {
     "slide_type": "slide"
    }
   },
   "outputs": [
    {
     "data": {
      "text/html": [
       "<div>\n",
       "<style scoped>\n",
       "    .dataframe tbody tr th:only-of-type {\n",
       "        vertical-align: middle;\n",
       "    }\n",
       "\n",
       "    .dataframe tbody tr th {\n",
       "        vertical-align: top;\n",
       "    }\n",
       "\n",
       "    .dataframe thead th {\n",
       "        text-align: right;\n",
       "    }\n",
       "</style>\n",
       "<table border=\"1\" class=\"dataframe\">\n",
       "  <thead>\n",
       "    <tr style=\"text-align: right;\">\n",
       "      <th></th>\n",
       "      <th>Company</th>\n",
       "      <th>Valuation</th>\n",
       "      <th>Date</th>\n",
       "      <th>Country</th>\n",
       "      <th>City</th>\n",
       "      <th>Industry</th>\n",
       "      <th>Investors</th>\n",
       "      <th>year</th>\n",
       "      <th>month</th>\n",
       "      <th>day</th>\n",
       "    </tr>\n",
       "  </thead>\n",
       "  <tbody>\n",
       "    <tr>\n",
       "      <th>0</th>\n",
       "      <td>Bytedance</td>\n",
       "      <td>140.0</td>\n",
       "      <td>4/7/2017</td>\n",
       "      <td>China</td>\n",
       "      <td>Beijing</td>\n",
       "      <td>Artificial Intelligence</td>\n",
       "      <td>0      Sequoia Capital China, SIG Asia Investm...</td>\n",
       "      <td>2017</td>\n",
       "      <td>7</td>\n",
       "      <td>4</td>\n",
       "    </tr>\n",
       "    <tr>\n",
       "      <th>1</th>\n",
       "      <td>SpaceX</td>\n",
       "      <td>100.3</td>\n",
       "      <td>12/1/2012</td>\n",
       "      <td>United States</td>\n",
       "      <td>Hawthorne</td>\n",
       "      <td>Other</td>\n",
       "      <td>0      Sequoia Capital China, SIG Asia Investm...</td>\n",
       "      <td>2012</td>\n",
       "      <td>1</td>\n",
       "      <td>12</td>\n",
       "    </tr>\n",
       "    <tr>\n",
       "      <th>2</th>\n",
       "      <td>Stripe</td>\n",
       "      <td>95.0</td>\n",
       "      <td>1/23/2014</td>\n",
       "      <td>United States</td>\n",
       "      <td>San Francisco</td>\n",
       "      <td>Fintech</td>\n",
       "      <td>0      Sequoia Capital China, SIG Asia Investm...</td>\n",
       "      <td>2014</td>\n",
       "      <td>23</td>\n",
       "      <td>1</td>\n",
       "    </tr>\n",
       "    <tr>\n",
       "      <th>3</th>\n",
       "      <td>Klarna</td>\n",
       "      <td>45.6</td>\n",
       "      <td>12/12/2011</td>\n",
       "      <td>Sweden</td>\n",
       "      <td>Stockholm</td>\n",
       "      <td>Fintech</td>\n",
       "      <td>0      Sequoia Capital China, SIG Asia Investm...</td>\n",
       "      <td>2011</td>\n",
       "      <td>12</td>\n",
       "      <td>12</td>\n",
       "    </tr>\n",
       "    <tr>\n",
       "      <th>4</th>\n",
       "      <td>Canva</td>\n",
       "      <td>40.0</td>\n",
       "      <td>1/8/2018</td>\n",
       "      <td>Australia</td>\n",
       "      <td>Surry Hills</td>\n",
       "      <td>Internet software &amp; services</td>\n",
       "      <td>0      Sequoia Capital China, SIG Asia Investm...</td>\n",
       "      <td>2018</td>\n",
       "      <td>8</td>\n",
       "      <td>1</td>\n",
       "    </tr>\n",
       "    <tr>\n",
       "      <th>5</th>\n",
       "      <td>Instacart</td>\n",
       "      <td>39.0</td>\n",
       "      <td>12/30/2014</td>\n",
       "      <td>United States</td>\n",
       "      <td>San Francisco</td>\n",
       "      <td>Supply chain, logistics, &amp; delivery</td>\n",
       "      <td>0      Sequoia Capital China, SIG Asia Investm...</td>\n",
       "      <td>2014</td>\n",
       "      <td>30</td>\n",
       "      <td>12</td>\n",
       "    </tr>\n",
       "    <tr>\n",
       "      <th>6</th>\n",
       "      <td>Databricks</td>\n",
       "      <td>38.0</td>\n",
       "      <td>2/5/2019</td>\n",
       "      <td>United States</td>\n",
       "      <td>San Francisco</td>\n",
       "      <td>Data management &amp; analytics</td>\n",
       "      <td>0      Sequoia Capital China, SIG Asia Investm...</td>\n",
       "      <td>2019</td>\n",
       "      <td>5</td>\n",
       "      <td>2</td>\n",
       "    </tr>\n",
       "    <tr>\n",
       "      <th>7</th>\n",
       "      <td>Revolut</td>\n",
       "      <td>33.0</td>\n",
       "      <td>4/26/2018</td>\n",
       "      <td>United Kingdom</td>\n",
       "      <td>London</td>\n",
       "      <td>Fintech</td>\n",
       "      <td>0      Sequoia Capital China, SIG Asia Investm...</td>\n",
       "      <td>2018</td>\n",
       "      <td>26</td>\n",
       "      <td>4</td>\n",
       "    </tr>\n",
       "    <tr>\n",
       "      <th>8</th>\n",
       "      <td>Nubank</td>\n",
       "      <td>30.0</td>\n",
       "      <td>3/1/2018</td>\n",
       "      <td>Brazil</td>\n",
       "      <td>Sao Paulo</td>\n",
       "      <td>Fintech</td>\n",
       "      <td>0      Sequoia Capital China, SIG Asia Investm...</td>\n",
       "      <td>2018</td>\n",
       "      <td>1</td>\n",
       "      <td>3</td>\n",
       "    </tr>\n",
       "    <tr>\n",
       "      <th>9</th>\n",
       "      <td>Epic Games</td>\n",
       "      <td>28.7</td>\n",
       "      <td>10/26/2018</td>\n",
       "      <td>United States</td>\n",
       "      <td>Cary</td>\n",
       "      <td>Other</td>\n",
       "      <td>0      Sequoia Capital China, SIG Asia Investm...</td>\n",
       "      <td>2018</td>\n",
       "      <td>26</td>\n",
       "      <td>10</td>\n",
       "    </tr>\n",
       "  </tbody>\n",
       "</table>\n",
       "</div>"
      ],
      "text/plain": [
       "      Company  Valuation        Date         Country           City  \\\n",
       "0   Bytedance      140.0    4/7/2017           China        Beijing   \n",
       "1      SpaceX      100.3   12/1/2012   United States      Hawthorne   \n",
       "2      Stripe       95.0   1/23/2014   United States  San Francisco   \n",
       "3      Klarna       45.6  12/12/2011          Sweden      Stockholm   \n",
       "4       Canva       40.0    1/8/2018       Australia    Surry Hills   \n",
       "5   Instacart       39.0  12/30/2014   United States  San Francisco   \n",
       "6  Databricks       38.0    2/5/2019   United States  San Francisco   \n",
       "7     Revolut       33.0   4/26/2018  United Kingdom         London   \n",
       "8      Nubank       30.0    3/1/2018          Brazil      Sao Paulo   \n",
       "9  Epic Games       28.7  10/26/2018   United States           Cary   \n",
       "\n",
       "                              Industry  \\\n",
       "0              Artificial Intelligence   \n",
       "1                                Other   \n",
       "2                              Fintech   \n",
       "3                              Fintech   \n",
       "4         Internet software & services   \n",
       "5  Supply chain, logistics, & delivery   \n",
       "6          Data management & analytics   \n",
       "7                              Fintech   \n",
       "8                              Fintech   \n",
       "9                                Other   \n",
       "\n",
       "                                           Investors  year  month  day  \n",
       "0  0      Sequoia Capital China, SIG Asia Investm...  2017      7    4  \n",
       "1  0      Sequoia Capital China, SIG Asia Investm...  2012      1   12  \n",
       "2  0      Sequoia Capital China, SIG Asia Investm...  2014     23    1  \n",
       "3  0      Sequoia Capital China, SIG Asia Investm...  2011     12   12  \n",
       "4  0      Sequoia Capital China, SIG Asia Investm...  2018      8    1  \n",
       "5  0      Sequoia Capital China, SIG Asia Investm...  2014     30   12  \n",
       "6  0      Sequoia Capital China, SIG Asia Investm...  2019      5    2  \n",
       "7  0      Sequoia Capital China, SIG Asia Investm...  2018     26    4  \n",
       "8  0      Sequoia Capital China, SIG Asia Investm...  2018      1    3  \n",
       "9  0      Sequoia Capital China, SIG Asia Investm...  2018     26   10  "
      ]
     },
     "execution_count": 64,
     "metadata": {},
     "output_type": "execute_result"
    }
   ],
   "source": [
    "#to sort startups based on their Valuation\n",
    "\n",
    "start_ups_val=start_ups.sort_values('Valuation',ascending=False).head(10) # Most valued company\n",
    "start_ups_val.head(10)"
   ]
  },
  {
   "cell_type": "code",
   "execution_count": 37,
   "id": "a954d80d",
   "metadata": {
    "slideshow": {
     "slide_type": "slide"
    }
   },
   "outputs": [],
   "source": [
    "country_value = start_ups.groupby('Country')['Valuation'].sum().reset_index()\n",
    "\n",
    "country_value.sort_values(by='Valuation', ascending=False, inplace=True)\n",
    "\n"
   ]
  },
  {
   "cell_type": "code",
   "execution_count": 61,
   "id": "bb0bc0e7",
   "metadata": {
    "slideshow": {
     "slide_type": "slide"
    }
   },
   "outputs": [
    {
     "data": {
      "text/html": [
       "<div>\n",
       "<style scoped>\n",
       "    .dataframe tbody tr th:only-of-type {\n",
       "        vertical-align: middle;\n",
       "    }\n",
       "\n",
       "    .dataframe tbody tr th {\n",
       "        vertical-align: top;\n",
       "    }\n",
       "\n",
       "    .dataframe thead th {\n",
       "        text-align: right;\n",
       "    }\n",
       "</style>\n",
       "<table border=\"1\" class=\"dataframe\">\n",
       "  <thead>\n",
       "    <tr style=\"text-align: right;\">\n",
       "      <th></th>\n",
       "      <th>Country</th>\n",
       "      <th>Valuation</th>\n",
       "    </tr>\n",
       "  </thead>\n",
       "  <tbody>\n",
       "    <tr>\n",
       "      <th>43</th>\n",
       "      <td>United States</td>\n",
       "      <td>477</td>\n",
       "    </tr>\n",
       "    <tr>\n",
       "      <th>8</th>\n",
       "      <td>China</td>\n",
       "      <td>169</td>\n",
       "    </tr>\n",
       "    <tr>\n",
       "      <th>18</th>\n",
       "      <td>India</td>\n",
       "      <td>51</td>\n",
       "    </tr>\n",
       "    <tr>\n",
       "      <th>42</th>\n",
       "      <td>United Kingdom</td>\n",
       "      <td>37</td>\n",
       "    </tr>\n",
       "    <tr>\n",
       "      <th>16</th>\n",
       "      <td>Germany</td>\n",
       "      <td>23</td>\n",
       "    </tr>\n",
       "  </tbody>\n",
       "</table>\n",
       "</div>"
      ],
      "text/plain": [
       "           Country  Valuation\n",
       "43   United States        477\n",
       "8            China        169\n",
       "18           India         51\n",
       "42  United Kingdom         37\n",
       "16         Germany         23"
      ]
     },
     "execution_count": 61,
     "metadata": {},
     "output_type": "execute_result"
    }
   ],
   "source": [
    "# to find out the country has the highest startup gy vavaluation\n",
    "\n",
    "country_value=start_ups.groupby('Country',as_index=False).Valuation.count()\n",
    "country_value=country_value.sort_values(by='Valuation',ascending=False)\n",
    "country_value.head(5)"
   ]
  },
  {
   "cell_type": "code",
   "execution_count": 65,
   "id": "486b7ed2",
   "metadata": {
    "slideshow": {
     "slide_type": "slide"
    }
   },
   "outputs": [
    {
     "data": {
      "image/png": "[encoded data removed]",
      "text/plain": [
       "<Figure size 1200x600 with 1 Axes>"
      ]
     },
     "metadata": {},
     "output_type": "display_data"
    }
   ],
   "source": [
    "#ploting the rsults\n",
    "\n",
    "plt.figure(figsize=(12,6))\n",
    "sns.barplot(data=country_value.iloc[:5], y='Country', x='Valuation', palette='inferno_r')\n",
    "plt.show()"
   ]
  },
  {
   "cell_type": "code",
   "execution_count": 60,
   "id": "3d699d4e",
   "metadata": {
    "slideshow": {
     "slide_type": "slide"
    }
   },
   "outputs": [
    {
     "data": {
      "text/html": [
       "<div>\n",
       "<style scoped>\n",
       "    .dataframe tbody tr th:only-of-type {\n",
       "        vertical-align: middle;\n",
       "    }\n",
       "\n",
       "    .dataframe tbody tr th {\n",
       "        vertical-align: top;\n",
       "    }\n",
       "\n",
       "    .dataframe thead th {\n",
       "        text-align: right;\n",
       "    }\n",
       "</style>\n",
       "<table border=\"1\" class=\"dataframe\">\n",
       "  <thead>\n",
       "    <tr style=\"text-align: right;\">\n",
       "      <th></th>\n",
       "      <th>Industry</th>\n",
       "      <th>Valuation</th>\n",
       "    </tr>\n",
       "  </thead>\n",
       "  <tbody>\n",
       "    <tr>\n",
       "      <th>1</th>\n",
       "      <td>Auto &amp; transportation</td>\n",
       "      <td>2.410</td>\n",
       "    </tr>\n",
       "    <tr>\n",
       "      <th>7</th>\n",
       "      <td>Fintech</td>\n",
       "      <td>1.900</td>\n",
       "    </tr>\n",
       "    <tr>\n",
       "      <th>3</th>\n",
       "      <td>Cybersecurity</td>\n",
       "      <td>1.800</td>\n",
       "    </tr>\n",
       "    <tr>\n",
       "      <th>10</th>\n",
       "      <td>Internet software &amp; services</td>\n",
       "      <td>1.675</td>\n",
       "    </tr>\n",
       "    <tr>\n",
       "      <th>5</th>\n",
       "      <td>E-commerce &amp; direct-to-consumer</td>\n",
       "      <td>1.650</td>\n",
       "    </tr>\n",
       "    <tr>\n",
       "      <th>4</th>\n",
       "      <td>Data management &amp; analytics</td>\n",
       "      <td>1.610</td>\n",
       "    </tr>\n",
       "    <tr>\n",
       "      <th>2</th>\n",
       "      <td>Consumer &amp; retail</td>\n",
       "      <td>1.590</td>\n",
       "    </tr>\n",
       "    <tr>\n",
       "      <th>8</th>\n",
       "      <td>Hardware</td>\n",
       "      <td>1.575</td>\n",
       "    </tr>\n",
       "    <tr>\n",
       "      <th>12</th>\n",
       "      <td>Other</td>\n",
       "      <td>1.550</td>\n",
       "    </tr>\n",
       "    <tr>\n",
       "      <th>0</th>\n",
       "      <td>Artificial Intelligence</td>\n",
       "      <td>1.500</td>\n",
       "    </tr>\n",
       "    <tr>\n",
       "      <th>6</th>\n",
       "      <td>Edtech</td>\n",
       "      <td>1.500</td>\n",
       "    </tr>\n",
       "    <tr>\n",
       "      <th>9</th>\n",
       "      <td>Health</td>\n",
       "      <td>1.500</td>\n",
       "    </tr>\n",
       "    <tr>\n",
       "      <th>14</th>\n",
       "      <td>Travel</td>\n",
       "      <td>1.500</td>\n",
       "    </tr>\n",
       "    <tr>\n",
       "      <th>11</th>\n",
       "      <td>Mobile &amp; telecommunications</td>\n",
       "      <td>1.350</td>\n",
       "    </tr>\n",
       "    <tr>\n",
       "      <th>13</th>\n",
       "      <td>Supply chain, logistics, &amp; delivery</td>\n",
       "      <td>1.185</td>\n",
       "    </tr>\n",
       "  </tbody>\n",
       "</table>\n",
       "</div>"
      ],
      "text/plain": [
       "                               Industry  Valuation\n",
       "1                 Auto & transportation      2.410\n",
       "7                               Fintech      1.900\n",
       "3                         Cybersecurity      1.800\n",
       "10         Internet software & services      1.675\n",
       "5       E-commerce & direct-to-consumer      1.650\n",
       "4           Data management & analytics      1.610\n",
       "2                     Consumer & retail      1.590\n",
       "8                              Hardware      1.575\n",
       "12                                Other      1.550\n",
       "0               Artificial Intelligence      1.500\n",
       "6                                Edtech      1.500\n",
       "9                                Health      1.500\n",
       "14                               Travel      1.500\n",
       "11          Mobile & telecommunications      1.350\n",
       "13  Supply chain, logistics, & delivery      1.185"
      ]
     },
     "execution_count": 60,
     "metadata": {},
     "output_type": "execute_result"
    }
   ],
   "source": [
    "#finding cumulative valuation based on industry\n",
    "\n",
    "top_val_industry=start_ups.groupby('Industry')['Valuation'].median().reset_index()\n",
    "\n",
    "top_val_industry.sort_values(by='Valuation',ascending=False, inplace=True)\n",
    "\n",
    "top_val_industry"
   ]
  },
  {
   "cell_type": "code",
   "execution_count": 67,
   "id": "dcdcd020",
   "metadata": {
    "slideshow": {
     "slide_type": "slide"
    }
   },
   "outputs": [
    {
     "data": {
      "text/plain": [
       "Text(0, 0.5, 'valuations')"
      ]
     },
     "execution_count": 67,
     "metadata": {},
     "output_type": "execute_result"
    },
    {
     "data": {
      "image/png": "[encoded data removed]",
      "text/plain": [
       "<Figure size 3000x1000 with 1 Axes>"
      ]
     },
     "metadata": {},
     "output_type": "display_data"
    }
   ],
   "source": [
    "plt.figure(figsize=(30,10))\n",
    "plt.title('valuation based on industry')\n",
    "plt.bar(top_val_industry['Industry'],top_val_industry['Valuation'])\n",
    "plt.xlabel(\"Name of Industry\",fontdict={\"fontsize\":12})\n",
    "plt.ylabel(\"valuations\",fontdict={\"fontsize\":12})"
   ]
  },
  {
   "cell_type": "code",
   "execution_count": 68,
   "id": "1e6259bd",
   "metadata": {
    "slideshow": {
     "slide_type": "slide"
    }
   },
   "outputs": [
    {
     "data": {
      "text/html": [
       "<div>\n",
       "<style scoped>\n",
       "    .dataframe tbody tr th:only-of-type {\n",
       "        vertical-align: middle;\n",
       "    }\n",
       "\n",
       "    .dataframe tbody tr th {\n",
       "        vertical-align: top;\n",
       "    }\n",
       "\n",
       "    .dataframe thead th {\n",
       "        text-align: right;\n",
       "    }\n",
       "</style>\n",
       "<table border=\"1\" class=\"dataframe\">\n",
       "  <thead>\n",
       "    <tr style=\"text-align: right;\">\n",
       "      <th></th>\n",
       "      <th>Company</th>\n",
       "      <th>Valuation</th>\n",
       "      <th>Date</th>\n",
       "      <th>Country</th>\n",
       "      <th>City</th>\n",
       "      <th>Industry</th>\n",
       "      <th>Investors</th>\n",
       "      <th>year</th>\n",
       "      <th>month</th>\n",
       "      <th>day</th>\n",
       "    </tr>\n",
       "  </thead>\n",
       "  <tbody>\n",
       "    <tr>\n",
       "      <th>1</th>\n",
       "      <td>SpaceX</td>\n",
       "      <td>100.3</td>\n",
       "      <td>12/1/2012</td>\n",
       "      <td>United States</td>\n",
       "      <td>Hawthorne</td>\n",
       "      <td>Other</td>\n",
       "      <td>0      Sequoia Capital China, SIG Asia Investm...</td>\n",
       "      <td>2012</td>\n",
       "      <td>1</td>\n",
       "      <td>12</td>\n",
       "    </tr>\n",
       "    <tr>\n",
       "      <th>2</th>\n",
       "      <td>Stripe</td>\n",
       "      <td>95.0</td>\n",
       "      <td>1/23/2014</td>\n",
       "      <td>United States</td>\n",
       "      <td>San Francisco</td>\n",
       "      <td>Fintech</td>\n",
       "      <td>0      Sequoia Capital China, SIG Asia Investm...</td>\n",
       "      <td>2014</td>\n",
       "      <td>23</td>\n",
       "      <td>1</td>\n",
       "    </tr>\n",
       "    <tr>\n",
       "      <th>5</th>\n",
       "      <td>Instacart</td>\n",
       "      <td>39.0</td>\n",
       "      <td>12/30/2014</td>\n",
       "      <td>United States</td>\n",
       "      <td>San Francisco</td>\n",
       "      <td>Supply chain, logistics, &amp; delivery</td>\n",
       "      <td>0      Sequoia Capital China, SIG Asia Investm...</td>\n",
       "      <td>2014</td>\n",
       "      <td>30</td>\n",
       "      <td>12</td>\n",
       "    </tr>\n",
       "    <tr>\n",
       "      <th>6</th>\n",
       "      <td>Databricks</td>\n",
       "      <td>38.0</td>\n",
       "      <td>2/5/2019</td>\n",
       "      <td>United States</td>\n",
       "      <td>San Francisco</td>\n",
       "      <td>Data management &amp; analytics</td>\n",
       "      <td>0      Sequoia Capital China, SIG Asia Investm...</td>\n",
       "      <td>2019</td>\n",
       "      <td>5</td>\n",
       "      <td>2</td>\n",
       "    </tr>\n",
       "    <tr>\n",
       "      <th>9</th>\n",
       "      <td>Epic Games</td>\n",
       "      <td>28.7</td>\n",
       "      <td>10/26/2018</td>\n",
       "      <td>United States</td>\n",
       "      <td>Cary</td>\n",
       "      <td>Other</td>\n",
       "      <td>0      Sequoia Capital China, SIG Asia Investm...</td>\n",
       "      <td>2018</td>\n",
       "      <td>26</td>\n",
       "      <td>10</td>\n",
       "    </tr>\n",
       "    <tr>\n",
       "      <th>...</th>\n",
       "      <td>...</td>\n",
       "      <td>...</td>\n",
       "      <td>...</td>\n",
       "      <td>...</td>\n",
       "      <td>...</td>\n",
       "      <td>...</td>\n",
       "      <td>...</td>\n",
       "      <td>...</td>\n",
       "      <td>...</td>\n",
       "      <td>...</td>\n",
       "    </tr>\n",
       "    <tr>\n",
       "      <th>929</th>\n",
       "      <td>Lessen</td>\n",
       "      <td>1.0</td>\n",
       "      <td>11/30/2021</td>\n",
       "      <td>United States</td>\n",
       "      <td>Scottsdale</td>\n",
       "      <td>Internet software &amp; services</td>\n",
       "      <td>0      Sequoia Capital China, SIG Asia Investm...</td>\n",
       "      <td>2021</td>\n",
       "      <td>30</td>\n",
       "      <td>11</td>\n",
       "    </tr>\n",
       "    <tr>\n",
       "      <th>931</th>\n",
       "      <td>YipitData</td>\n",
       "      <td>1.0</td>\n",
       "      <td>12/6/2021</td>\n",
       "      <td>United States</td>\n",
       "      <td>New York</td>\n",
       "      <td>Internet software &amp; services</td>\n",
       "      <td>0      Sequoia Capital China, SIG Asia Investm...</td>\n",
       "      <td>2021</td>\n",
       "      <td>6</td>\n",
       "      <td>12</td>\n",
       "    </tr>\n",
       "    <tr>\n",
       "      <th>932</th>\n",
       "      <td>Anyscale</td>\n",
       "      <td>1.0</td>\n",
       "      <td>12/7/2021</td>\n",
       "      <td>United States</td>\n",
       "      <td>Berkeley</td>\n",
       "      <td>Artificial Intelligence</td>\n",
       "      <td>0      Sequoia Capital China, SIG Asia Investm...</td>\n",
       "      <td>2021</td>\n",
       "      <td>7</td>\n",
       "      <td>12</td>\n",
       "    </tr>\n",
       "    <tr>\n",
       "      <th>933</th>\n",
       "      <td>Iodine Software</td>\n",
       "      <td>1.0</td>\n",
       "      <td>12/1/2021</td>\n",
       "      <td>United States</td>\n",
       "      <td>Austin</td>\n",
       "      <td>Data management &amp; analytics</td>\n",
       "      <td>0      Sequoia Capital China, SIG Asia Investm...</td>\n",
       "      <td>2021</td>\n",
       "      <td>1</td>\n",
       "      <td>12</td>\n",
       "    </tr>\n",
       "    <tr>\n",
       "      <th>934</th>\n",
       "      <td>ReliaQuest</td>\n",
       "      <td>1.0</td>\n",
       "      <td>12/1/2021</td>\n",
       "      <td>United States</td>\n",
       "      <td>Tampa</td>\n",
       "      <td>Cybersecurity</td>\n",
       "      <td>0      Sequoia Capital China, SIG Asia Investm...</td>\n",
       "      <td>2021</td>\n",
       "      <td>1</td>\n",
       "      <td>12</td>\n",
       "    </tr>\n",
       "  </tbody>\n",
       "</table>\n",
       "<p>477 rows × 10 columns</p>\n",
       "</div>"
      ],
      "text/plain": [
       "             Company  Valuation        Date        Country           City  \\\n",
       "1             SpaceX      100.3   12/1/2012  United States      Hawthorne   \n",
       "2             Stripe       95.0   1/23/2014  United States  San Francisco   \n",
       "5          Instacart       39.0  12/30/2014  United States  San Francisco   \n",
       "6         Databricks       38.0    2/5/2019  United States  San Francisco   \n",
       "9         Epic Games       28.7  10/26/2018  United States           Cary   \n",
       "..               ...        ...         ...            ...            ...   \n",
       "929           Lessen        1.0  11/30/2021  United States     Scottsdale   \n",
       "931        YipitData        1.0   12/6/2021  United States       New York   \n",
       "932         Anyscale        1.0   12/7/2021  United States       Berkeley   \n",
       "933  Iodine Software        1.0   12/1/2021  United States         Austin   \n",
       "934       ReliaQuest        1.0   12/1/2021  United States          Tampa   \n",
       "\n",
       "                                Industry  \\\n",
       "1                                  Other   \n",
       "2                                Fintech   \n",
       "5    Supply chain, logistics, & delivery   \n",
       "6            Data management & analytics   \n",
       "9                                  Other   \n",
       "..                                   ...   \n",
       "929         Internet software & services   \n",
       "931         Internet software & services   \n",
       "932              Artificial Intelligence   \n",
       "933          Data management & analytics   \n",
       "934                        Cybersecurity   \n",
       "\n",
       "                                             Investors  year  month  day  \n",
       "1    0      Sequoia Capital China, SIG Asia Investm...  2012      1   12  \n",
       "2    0      Sequoia Capital China, SIG Asia Investm...  2014     23    1  \n",
       "5    0      Sequoia Capital China, SIG Asia Investm...  2014     30   12  \n",
       "6    0      Sequoia Capital China, SIG Asia Investm...  2019      5    2  \n",
       "9    0      Sequoia Capital China, SIG Asia Investm...  2018     26   10  \n",
       "..                                                 ...   ...    ...  ...  \n",
       "929  0      Sequoia Capital China, SIG Asia Investm...  2021     30   11  \n",
       "931  0      Sequoia Capital China, SIG Asia Investm...  2021      6   12  \n",
       "932  0      Sequoia Capital China, SIG Asia Investm...  2021      7   12  \n",
       "933  0      Sequoia Capital China, SIG Asia Investm...  2021      1   12  \n",
       "934  0      Sequoia Capital China, SIG Asia Investm...  2021      1   12  \n",
       "\n",
       "[477 rows x 10 columns]"
      ]
     },
     "execution_count": 68,
     "metadata": {},
     "output_type": "execute_result"
    }
   ],
   "source": [
    "#taking USA start ups \n",
    "usa_startup=start_ups[start_ups['Country']=='United States']\n",
    "usa_startup"
   ]
  },
  {
   "cell_type": "code",
   "execution_count": 69,
   "id": "b50c87cf",
   "metadata": {
    "slideshow": {
     "slide_type": "slide"
    }
   },
   "outputs": [
    {
     "name": "stdout",
     "output_type": "stream",
     "text": [
      "Based on valuation Which city has most valuation startups in world\n"
     ]
    },
    {
     "data": {
      "text/html": [
       "<div>\n",
       "<style scoped>\n",
       "    .dataframe tbody tr th:only-of-type {\n",
       "        vertical-align: middle;\n",
       "    }\n",
       "\n",
       "    .dataframe tbody tr th {\n",
       "        vertical-align: top;\n",
       "    }\n",
       "\n",
       "    .dataframe thead th {\n",
       "        text-align: right;\n",
       "    }\n",
       "</style>\n",
       "<table border=\"1\" class=\"dataframe\">\n",
       "  <thead>\n",
       "    <tr style=\"text-align: right;\">\n",
       "      <th></th>\n",
       "      <th>City</th>\n",
       "      <th>Valuation</th>\n",
       "    </tr>\n",
       "  </thead>\n",
       "  <tbody>\n",
       "    <tr>\n",
       "      <th>183</th>\n",
       "      <td>San Francisco</td>\n",
       "      <td>134</td>\n",
       "    </tr>\n",
       "    <tr>\n",
       "      <th>150</th>\n",
       "      <td>New York</td>\n",
       "      <td>81</td>\n",
       "    </tr>\n",
       "    <tr>\n",
       "      <th>13</th>\n",
       "      <td>Beijing</td>\n",
       "      <td>62</td>\n",
       "    </tr>\n",
       "    <tr>\n",
       "      <th>198</th>\n",
       "      <td>Shanghai</td>\n",
       "      <td>45</td>\n",
       "    </tr>\n",
       "    <tr>\n",
       "      <th>121</th>\n",
       "      <td>London</td>\n",
       "      <td>28</td>\n",
       "    </tr>\n",
       "    <tr>\n",
       "      <th>17</th>\n",
       "      <td>Bengaluru</td>\n",
       "      <td>25</td>\n",
       "    </tr>\n",
       "    <tr>\n",
       "      <th>199</th>\n",
       "      <td>Shenzhen</td>\n",
       "      <td>18</td>\n",
       "    </tr>\n",
       "    <tr>\n",
       "      <th>20</th>\n",
       "      <td>Berlin</td>\n",
       "      <td>16</td>\n",
       "    </tr>\n",
       "    <tr>\n",
       "      <th>159</th>\n",
       "      <td>Paris</td>\n",
       "      <td>15</td>\n",
       "    </tr>\n",
       "    <tr>\n",
       "      <th>49</th>\n",
       "      <td>Chicago</td>\n",
       "      <td>14</td>\n",
       "    </tr>\n",
       "  </tbody>\n",
       "</table>\n",
       "</div>"
      ],
      "text/plain": [
       "              City  Valuation\n",
       "183  San Francisco        134\n",
       "150       New York         81\n",
       "13         Beijing         62\n",
       "198       Shanghai         45\n",
       "121         London         28\n",
       "17       Bengaluru         25\n",
       "199       Shenzhen         18\n",
       "20          Berlin         16\n",
       "159          Paris         15\n",
       "49         Chicago         14"
      ]
     },
     "execution_count": 69,
     "metadata": {},
     "output_type": "execute_result"
    }
   ],
   "source": [
    "#ranking startups in the wolrd based on the city\n",
    "\n",
    "start_ups_city=start_ups.groupby(\"City\", as_index=False).Valuation.count()\n",
    "print(\"Based on valuation Which city has most valuation startups in world\")\n",
    "start_ups_city.sort_values(by=\"Valuation\",ascending=False).head(10)"
   ]
  },
  {
   "cell_type": "code",
   "execution_count": 70,
   "id": "3b753bff",
   "metadata": {
    "slideshow": {
     "slide_type": "slide"
    }
   },
   "outputs": [
    {
     "data": {
      "text/html": [
       "<div>\n",
       "<style scoped>\n",
       "    .dataframe tbody tr th:only-of-type {\n",
       "        vertical-align: middle;\n",
       "    }\n",
       "\n",
       "    .dataframe tbody tr th {\n",
       "        vertical-align: top;\n",
       "    }\n",
       "\n",
       "    .dataframe thead th {\n",
       "        text-align: right;\n",
       "    }\n",
       "</style>\n",
       "<table border=\"1\" class=\"dataframe\">\n",
       "  <thead>\n",
       "    <tr style=\"text-align: right;\">\n",
       "      <th></th>\n",
       "      <th>Company</th>\n",
       "      <th>Valuation</th>\n",
       "      <th>Date</th>\n",
       "      <th>Country</th>\n",
       "      <th>City</th>\n",
       "      <th>Industry</th>\n",
       "      <th>Investors</th>\n",
       "      <th>year</th>\n",
       "      <th>month</th>\n",
       "      <th>day</th>\n",
       "    </tr>\n",
       "  </thead>\n",
       "  <tbody>\n",
       "    <tr>\n",
       "      <th>2</th>\n",
       "      <td>Stripe</td>\n",
       "      <td>95.0</td>\n",
       "      <td>1/23/2014</td>\n",
       "      <td>United States</td>\n",
       "      <td>San Francisco</td>\n",
       "      <td>Fintech</td>\n",
       "      <td>0      Sequoia Capital China, SIG Asia Investm...</td>\n",
       "      <td>2014</td>\n",
       "      <td>23</td>\n",
       "      <td>1</td>\n",
       "    </tr>\n",
       "    <tr>\n",
       "      <th>5</th>\n",
       "      <td>Instacart</td>\n",
       "      <td>39.0</td>\n",
       "      <td>12/30/2014</td>\n",
       "      <td>United States</td>\n",
       "      <td>San Francisco</td>\n",
       "      <td>Supply chain, logistics, &amp; delivery</td>\n",
       "      <td>0      Sequoia Capital China, SIG Asia Investm...</td>\n",
       "      <td>2014</td>\n",
       "      <td>30</td>\n",
       "      <td>12</td>\n",
       "    </tr>\n",
       "    <tr>\n",
       "      <th>6</th>\n",
       "      <td>Databricks</td>\n",
       "      <td>38.0</td>\n",
       "      <td>2/5/2019</td>\n",
       "      <td>United States</td>\n",
       "      <td>San Francisco</td>\n",
       "      <td>Data management &amp; analytics</td>\n",
       "      <td>0      Sequoia Capital China, SIG Asia Investm...</td>\n",
       "      <td>2019</td>\n",
       "      <td>5</td>\n",
       "      <td>2</td>\n",
       "    </tr>\n",
       "    <tr>\n",
       "      <th>10</th>\n",
       "      <td>Chime</td>\n",
       "      <td>25.0</td>\n",
       "      <td>3/5/2019</td>\n",
       "      <td>United States</td>\n",
       "      <td>San Francisco</td>\n",
       "      <td>Fintech</td>\n",
       "      <td>0      Sequoia Capital China, SIG Asia Investm...</td>\n",
       "      <td>2019</td>\n",
       "      <td>5</td>\n",
       "      <td>3</td>\n",
       "    </tr>\n",
       "    <tr>\n",
       "      <th>21</th>\n",
       "      <td>Plaid Technologies</td>\n",
       "      <td>13.4</td>\n",
       "      <td>12/11/2018</td>\n",
       "      <td>United States</td>\n",
       "      <td>San Francisco</td>\n",
       "      <td>Fintech</td>\n",
       "      <td>0      Sequoia Capital China, SIG Asia Investm...</td>\n",
       "      <td>2018</td>\n",
       "      <td>11</td>\n",
       "      <td>12</td>\n",
       "    </tr>\n",
       "    <tr>\n",
       "      <th>22</th>\n",
       "      <td>Grammarly</td>\n",
       "      <td>13.0</td>\n",
       "      <td>10/10/2019</td>\n",
       "      <td>United States</td>\n",
       "      <td>San Francisco</td>\n",
       "      <td>Internet software &amp; services</td>\n",
       "      <td>0      Sequoia Capital China, SIG Asia Investm...</td>\n",
       "      <td>2019</td>\n",
       "      <td>10</td>\n",
       "      <td>10</td>\n",
       "    </tr>\n",
       "    <tr>\n",
       "      <th>24</th>\n",
       "      <td>Faire</td>\n",
       "      <td>12.4</td>\n",
       "      <td>10/30/2019</td>\n",
       "      <td>United States</td>\n",
       "      <td>San Francisco</td>\n",
       "      <td>Artificial Intelligence</td>\n",
       "      <td>0      Sequoia Capital China, SIG Asia Investm...</td>\n",
       "      <td>2019</td>\n",
       "      <td>30</td>\n",
       "      <td>10</td>\n",
       "    </tr>\n",
       "    <tr>\n",
       "      <th>25</th>\n",
       "      <td>Brex</td>\n",
       "      <td>12.3</td>\n",
       "      <td>10/5/2018</td>\n",
       "      <td>United States</td>\n",
       "      <td>San Francisco</td>\n",
       "      <td>Fintech</td>\n",
       "      <td>0      Sequoia Capital China, SIG Asia Investm...</td>\n",
       "      <td>2018</td>\n",
       "      <td>5</td>\n",
       "      <td>10</td>\n",
       "    </tr>\n",
       "    <tr>\n",
       "      <th>27</th>\n",
       "      <td>JUUL Labs</td>\n",
       "      <td>12.0</td>\n",
       "      <td>12/20/2017</td>\n",
       "      <td>United States</td>\n",
       "      <td>San Francisco</td>\n",
       "      <td>Consumer &amp; retail</td>\n",
       "      <td>0      Sequoia Capital China, SIG Asia Investm...</td>\n",
       "      <td>2017</td>\n",
       "      <td>20</td>\n",
       "      <td>12</td>\n",
       "    </tr>\n",
       "    <tr>\n",
       "      <th>36</th>\n",
       "      <td>Ripple</td>\n",
       "      <td>10.0</td>\n",
       "      <td>12/20/2019</td>\n",
       "      <td>United States</td>\n",
       "      <td>San Francisco</td>\n",
       "      <td>Fintech</td>\n",
       "      <td>0      Sequoia Capital China, SIG Asia Investm...</td>\n",
       "      <td>2019</td>\n",
       "      <td>20</td>\n",
       "      <td>12</td>\n",
       "    </tr>\n",
       "  </tbody>\n",
       "</table>\n",
       "</div>"
      ],
      "text/plain": [
       "               Company  Valuation        Date        Country           City  \\\n",
       "2               Stripe       95.0   1/23/2014  United States  San Francisco   \n",
       "5            Instacart       39.0  12/30/2014  United States  San Francisco   \n",
       "6           Databricks       38.0    2/5/2019  United States  San Francisco   \n",
       "10               Chime       25.0    3/5/2019  United States  San Francisco   \n",
       "21  Plaid Technologies       13.4  12/11/2018  United States  San Francisco   \n",
       "22           Grammarly       13.0  10/10/2019  United States  San Francisco   \n",
       "24               Faire       12.4  10/30/2019  United States  San Francisco   \n",
       "25                Brex       12.3   10/5/2018  United States  San Francisco   \n",
       "27           JUUL Labs       12.0  12/20/2017  United States  San Francisco   \n",
       "36              Ripple       10.0  12/20/2019  United States  San Francisco   \n",
       "\n",
       "                               Industry  \\\n",
       "2                               Fintech   \n",
       "5   Supply chain, logistics, & delivery   \n",
       "6           Data management & analytics   \n",
       "10                              Fintech   \n",
       "21                              Fintech   \n",
       "22         Internet software & services   \n",
       "24              Artificial Intelligence   \n",
       "25                              Fintech   \n",
       "27                    Consumer & retail   \n",
       "36                              Fintech   \n",
       "\n",
       "                                            Investors  year  month  day  \n",
       "2   0      Sequoia Capital China, SIG Asia Investm...  2014     23    1  \n",
       "5   0      Sequoia Capital China, SIG Asia Investm...  2014     30   12  \n",
       "6   0      Sequoia Capital China, SIG Asia Investm...  2019      5    2  \n",
       "10  0      Sequoia Capital China, SIG Asia Investm...  2019      5    3  \n",
       "21  0      Sequoia Capital China, SIG Asia Investm...  2018     11   12  \n",
       "22  0      Sequoia Capital China, SIG Asia Investm...  2019     10   10  \n",
       "24  0      Sequoia Capital China, SIG Asia Investm...  2019     30   10  \n",
       "25  0      Sequoia Capital China, SIG Asia Investm...  2018      5   10  \n",
       "27  0      Sequoia Capital China, SIG Asia Investm...  2017     20   12  \n",
       "36  0      Sequoia Capital China, SIG Asia Investm...  2019     20   12  "
      ]
     },
     "execution_count": 70,
     "metadata": {},
     "output_type": "execute_result"
    }
   ],
   "source": [
    "#finding the \n",
    "\n",
    "sf_startups = start_ups[start_ups['City']==\"San Francisco\"]\n",
    "sf_startups.head()"
   ]
  },
  {
   "cell_type": "code",
   "execution_count": null,
   "id": "556b019e",
   "metadata": {
    "slideshow": {
     "slide_type": "slide"
    }
   },
   "outputs": [],
   "source": [
    "#Most of the Unicorns are located in the United States. \n",
    "\n",
    "#The unicorn with the largest valuation is ByteDance, the creator of TikTok.\n",
    "\n",
    "#However the countries with the largest unicorn median valuation are located in North-Eastern Europe.\n",
    "\n",
    "#The AI industry is still in the bottom half in term of mean capitalization,more is to come from this industry\n",
    "\n",
    "#Mostly startup belong to Fintech Industry i.e 20.1%\n",
    "\n",
    "#The countries with the most Unicorns StartUps are:\n",
    "\n",
    "        #1.The United States\n",
    "       # 2.China\n",
    "        #3.India\n",
    "\n",
    "\n",
    "# USA most of start ups are for-'Internet software & services',china-'E-commerce &direct-to-consumers\n",
    "\n",
    "#and india most of the startup belong to Fintech i.e more than 23&\n",
    "\n",
    "#2021 was an explosive year for  unicorn formation i.e 468\n",
    "\n",
    "#San Francisco has most valuation startups in world i.e $602.12B\n",
    "\n",
    "#The top 3 industry by median valuation is:\n",
    "\n",
    "        #1.Auto & Transportation [2.410]\n",
    "        #2.Fintech [1900]\n",
    "        #3.Cybersecurity [1800]\n"
   ]
  },
  {
   "cell_type": "markdown",
   "id": "fc6fff5a",
   "metadata": {},
   "source": [
    "# the end"
   ]
  }
 ],
 "metadata": {
  "kernelspec": {
   "display_name": "Python 3 (ipykernel)",
   "language": "python",
   "name": "python3"
  },
  "language_info": {
   "codemirror_mode": {
    "name": "ipython",
    "version": 3
   },
   "file_extension": ".py",
   "mimetype": "text/x-python",
   "name": "python",
   "nbconvert_exporter": "python",
   "pygments_lexer": "ipython3",
   "version": "3.9.13"
  }
 },
 "nbformat": 4,
 "nbformat_minor": 5
}
